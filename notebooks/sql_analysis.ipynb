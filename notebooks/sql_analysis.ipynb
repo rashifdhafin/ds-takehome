{
 "cells": [
  {
   "cell_type": "code",
   "execution_count": 2,
   "id": "0820ce88",
   "metadata": {},
   "outputs": [],
   "source": [
    "import duckdb"
   ]
  },
  {
   "cell_type": "code",
   "execution_count": 6,
   "id": "0a74c05c",
   "metadata": {},
   "outputs": [],
   "source": [
    "# Query 1: Create E_COMMERCE_TRANSACTIONS table from CSV file '../data/e_commerce_transactions.csv'\n",
    "duckdb.sql(\"DROP TABLE IF EXISTS E_COMMERCE_TRANSACTIONS\")\n",
    "duckdb.sql(\"CREATE TABLE E_COMMERCE_TRANSACTIONS AS SELECT * FROM read_csv_auto('../data/e_commerce_transactions.csv')\")"
   ]
  },
  {
   "cell_type": "code",
   "execution_count": 8,
   "id": "14849c45",
   "metadata": {},
   "outputs": [
    {
     "data": {
      "text/plain": [
       "┌──────────┬─────────────┬────────────┬───────────────┬────────────┬─────────────┐\n",
       "│ order_id │ customer_id │ order_date │ payment_value │ decoy_flag │ decoy_noise │\n",
       "│  int64   │    int64    │    date    │    double     │  varchar   │   double    │\n",
       "├──────────┼─────────────┼────────────┼───────────────┼────────────┼─────────────┤\n",
       "│   101000 │         684 │ 2024-01-29 │         38.93 │ A          │       39.51 │\n",
       "│   101001 │         207 │ 2024-06-29 │         59.52 │ B          │       38.97 │\n",
       "│   101002 │         288 │ 2024-03-20 │        355.52 │ B          │      338.14 │\n",
       "│   101003 │         571 │ 2024-02-24 │        157.65 │ C          │      121.69 │\n",
       "│   101004 │         871 │ 2024-01-11 │        287.68 │ C          │      254.92 │\n",
       "└──────────┴─────────────┴────────────┴───────────────┴────────────┴─────────────┘"
      ]
     },
     "execution_count": 8,
     "metadata": {},
     "output_type": "execute_result"
    }
   ],
   "source": [
    "# Query 2: Display first 5 rows of E_COMMERCE_TRANSACTIONS table\n",
    "duckdb.sql(\"SELECT * FROM E_COMMERCE_TRANSACTIONS LIMIT 5\")"
   ]
  }
 ],
 "metadata": {
  "kernelspec": {
   "display_name": ".venv",
   "language": "python",
   "name": "python3"
  },
  "language_info": {
   "codemirror_mode": {
    "name": "ipython",
    "version": 3
   },
   "file_extension": ".py",
   "mimetype": "text/x-python",
   "name": "python",
   "nbconvert_exporter": "python",
   "pygments_lexer": "ipython3",
   "version": "3.11.9"
  }
 },
 "nbformat": 4,
 "nbformat_minor": 5
}
