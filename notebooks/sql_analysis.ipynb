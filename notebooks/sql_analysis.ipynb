{
 "cells": [
  {
   "cell_type": "code",
   "execution_count": 1,
   "id": "0820ce88",
   "metadata": {},
   "outputs": [],
   "source": [
    "import duckdb"
   ]
  },
  {
   "cell_type": "code",
   "execution_count": 2,
   "id": "0a74c05c",
   "metadata": {},
   "outputs": [],
   "source": [
    "# Query 1: Create E_COMMERCE_TRANSACTIONS table from CSV file '../data/e_commerce_transactions.csv'\n",
    "duckdb.sql(\"DROP TABLE IF EXISTS E_COMMERCE_TRANSACTIONS\")\n",
    "duckdb.sql(\"CREATE TABLE E_COMMERCE_TRANSACTIONS AS SELECT * FROM read_csv_auto('../data/e_commerce_transactions.csv')\")"
   ]
  },
  {
   "cell_type": "code",
   "execution_count": 3,
   "id": "69bdf479",
   "metadata": {},
   "outputs": [
    {
     "data": {
      "text/plain": [
       "┌──────────┬─────────────┬────────────┬───────────────┬────────────┬─────────────┐\n",
       "│ order_id │ customer_id │ order_date │ payment_value │ decoy_flag │ decoy_noise │\n",
       "│  int64   │    int64    │    date    │    double     │  varchar   │   double    │\n",
       "├──────────┼─────────────┼────────────┼───────────────┼────────────┼─────────────┤\n",
       "│   101000 │         684 │ 2024-01-29 │         38.93 │ A          │       39.51 │\n",
       "│   101001 │         207 │ 2024-06-29 │         59.52 │ B          │       38.97 │\n",
       "│   101002 │         288 │ 2024-03-20 │        355.52 │ B          │      338.14 │\n",
       "│   101003 │         571 │ 2024-02-24 │        157.65 │ C          │      121.69 │\n",
       "│   101004 │         871 │ 2024-01-11 │        287.68 │ C          │      254.92 │\n",
       "└──────────┴─────────────┴────────────┴───────────────┴────────────┴─────────────┘"
      ]
     },
     "execution_count": 3,
     "metadata": {},
     "output_type": "execute_result"
    }
   ],
   "source": [
    "# Query 2: Display first 5 rows of E_COMMERCE_TRANSACTIONS table\n",
    "duckdb.sql(\"SELECT * FROM E_COMMERCE_TRANSACTIONS LIMIT 5\")"
   ]
  },
  {
   "cell_type": "code",
   "execution_count": 5,
   "id": "1a677c2e",
   "metadata": {},
   "outputs": [
    {
     "data": {
      "text/plain": [
       "┌───────────┐\n",
       "│ NULL_DATA │\n",
       "│   int64   │\n",
       "├───────────┤\n",
       "│         0 │\n",
       "└───────────┘"
      ]
     },
     "execution_count": 5,
     "metadata": {},
     "output_type": "execute_result"
    }
   ],
   "source": [
    "# Query 3: Check if we have null data in E_COMMERCE_TRANSACTIONS table\n",
    "duckdb.sql(\"\"\"SELECT COUNT(*) AS NULL_DATA\n",
    "           FROM E_COMMERCE_TRANSACTIONS\n",
    "           WHERE order_id IS NULL \n",
    "           OR customer_id IS NULL\n",
    "           OR order_date IS NULL\n",
    "           OR payment_value IS NULL\n",
    "           OR decoy_flag IS NULL\n",
    "           OR decoy_noise IS NULL\"\"\")"
   ]
  },
  {
   "cell_type": "code",
   "execution_count": 6,
   "id": "3a33b159",
   "metadata": {},
   "outputs": [
    {
     "data": {
      "text/plain": [
       "┌─────────────────┐\n",
       "│ UNIQUE_ORDER_ID │\n",
       "│      int64      │\n",
       "├─────────────────┤\n",
       "│           10000 │\n",
       "└─────────────────┘"
      ]
     },
     "execution_count": 6,
     "metadata": {},
     "output_type": "execute_result"
    }
   ],
   "source": [
    "# Query 4: Check how many unique order_id in E_COMMERCE_TRANSACTIONS table\n",
    "# to make sure we have no duplicates\n",
    "duckdb.sql(\"SELECT COUNT(DISTINCT order_id) AS UNIQUE_ORDER_ID FROM E_COMMERCE_TRANSACTIONS\")"
   ]
  },
  {
   "cell_type": "code",
   "execution_count": 13,
   "id": "56cc574e",
   "metadata": {},
   "outputs": [
    {
     "data": {
      "text/plain": [
       "┌────────────────────┐\n",
       "│ UNIQUE_CUSTOMER_ID │\n",
       "│       int64        │\n",
       "├────────────────────┤\n",
       "│               1000 │\n",
       "└────────────────────┘"
      ]
     },
     "execution_count": 13,
     "metadata": {},
     "output_type": "execute_result"
    }
   ],
   "source": [
    "# Query 5: Check how many unique customer_id in E_COMMERCE_TRANSACTIONS table\n",
    "duckdb.sql(\"SELECT COUNT(DISTINCT customer_id) AS UNIQUE_CUSTOMER_ID FROM E_COMMERCE_TRANSACTIONS\")"
   ]
  },
  {
   "cell_type": "code",
   "execution_count": 17,
   "id": "6bfe4fe1",
   "metadata": {},
   "outputs": [
    {
     "data": {
      "text/plain": [
       "┌────────────────┬────────────────┐\n",
       "│ MIN_ORDER_DATE │ MAX_ORDER_DATE │\n",
       "│      date      │      date      │\n",
       "├────────────────┼────────────────┤\n",
       "│ 2024-01-01     │ 2025-05-05     │\n",
       "└────────────────┴────────────────┘"
      ]
     },
     "execution_count": 17,
     "metadata": {},
     "output_type": "execute_result"
    }
   ],
   "source": [
    "# Query 6: Check minimum and maximum order_date in E_COMMERCE_TRANSACTIONS table\n",
    "duckdb.sql(\"\"\"SELECT \n",
    "                MIN(order_date) AS MIN_ORDER_DATE, \n",
    "                MAX(order_date) AS MAX_ORDER_DATE \n",
    "              FROM E_COMMERCE_TRANSACTIONS\"\"\")"
   ]
  },
  {
   "cell_type": "code",
   "execution_count": 18,
   "id": "abd07950",
   "metadata": {},
   "outputs": [
    {
     "data": {
      "text/plain": [
       "┌───────────────────┬───────────────────┐\n",
       "│ MIN_PAYMENT_VALUE │ MAX_PAYMENT_VALUE │\n",
       "│      double       │      double       │\n",
       "├───────────────────┼───────────────────┤\n",
       "│              0.55 │           1369.47 │\n",
       "└───────────────────┴───────────────────┘"
      ]
     },
     "execution_count": 18,
     "metadata": {},
     "output_type": "execute_result"
    }
   ],
   "source": [
    "# Query 7: Check minimum and maximum payment_value in E_COMMERCE_TRANSACTIONS table\n",
    "duckdb.sql(\"\"\"SELECT \n",
    "                MIN(payment_value) AS MIN_PAYMENT_VALUE, \n",
    "                MAX(payment_value) AS MAX_PAYMENT_VALUE \n",
    "              FROM E_COMMERCE_TRANSACTIONS\"\"\")"
   ]
  },
  {
   "cell_type": "code",
   "execution_count": 19,
   "id": "f05df815",
   "metadata": {},
   "outputs": [
    {
     "data": {
      "text/plain": [
       "┌────────────┐\n",
       "│ decoy_flag │\n",
       "│  varchar   │\n",
       "├────────────┤\n",
       "│ C          │\n",
       "│ D          │\n",
       "│ A          │\n",
       "│ B          │\n",
       "└────────────┘"
      ]
     },
     "execution_count": 19,
     "metadata": {},
     "output_type": "execute_result"
    }
   ],
   "source": [
    "# Query 8: Check unique value from decoy_flag column in E_COMMERCE_TRANSACTIONS table\n",
    "duckdb.sql(\"SELECT DISTINCT decoy_flag FROM E_COMMERCE_TRANSACTIONS\")"
   ]
  },
  {
   "cell_type": "code",
   "execution_count": 20,
   "id": "10fb1c34",
   "metadata": {},
   "outputs": [
    {
     "data": {
      "text/plain": [
       "┌─────────────────┬─────────────────┐\n",
       "│ MIN_DECOY_NOISE │ MAX_DECOY_NOISE │\n",
       "│     double      │     double      │\n",
       "├─────────────────┼─────────────────┤\n",
       "│          -48.34 │         1468.46 │\n",
       "└─────────────────┴─────────────────┘"
      ]
     },
     "execution_count": 20,
     "metadata": {},
     "output_type": "execute_result"
    }
   ],
   "source": [
    "# Query 9: Check minimum and maximum decoy_noise in E_COMMERCE_TRANSACTIONS table\n",
    "duckdb.sql(\"\"\"SELECT \n",
    "                MIN(decoy_noise) AS MIN_DECOY_NOISE, \n",
    "                MAX(decoy_noise) AS MAX_DECOY_NOISE \n",
    "              FROM E_COMMERCE_TRANSACTIONS\"\"\")"
   ]
  },
  {
   "cell_type": "code",
   "execution_count": 28,
   "id": "7335d082",
   "metadata": {},
   "outputs": [
    {
     "data": {
      "text/plain": [
       "┌───────────────────┬─────────────────────┐\n",
       "│ Customer_Segment  │ Number_Of_Customers │\n",
       "│      varchar      │        int64        │\n",
       "├───────────────────┼─────────────────────┤\n",
       "│ Other             │                 582 │\n",
       "│ Lost              │                 246 │\n",
       "│ Average Customers │                  57 │\n",
       "│ Champions         │                  51 │\n",
       "│ Frequent Buyers   │                  40 │\n",
       "│ Big Spenders      │                  24 │\n",
       "└───────────────────┴─────────────────────┘"
      ]
     },
     "execution_count": 28,
     "metadata": {},
     "output_type": "execute_result"
    }
   ],
   "source": [
    "# Query 10: Create RFM scores and customer segments distribution\n",
    "rfm_query = \"\"\"\n",
    "WITH CustomerRFM AS (\n",
    "    SELECT\n",
    "        customer_id,\n",
    "        DATE_DIFF('day', MAX(order_date), (SELECT MAX(order_date) FROM E_COMMERCE_TRANSACTIONS)) AS recency,\n",
    "        COUNT(DISTINCT order_id) AS frequency,\n",
    "        SUM(payment_value) AS monetary\n",
    "    FROM\n",
    "        E_COMMERCE_TRANSACTIONS\n",
    "    GROUP BY\n",
    "        customer_id\n",
    "),\n",
    "RFMScores AS (\n",
    "    SELECT\n",
    "        customer_id,\n",
    "        NTILE(5) OVER (ORDER BY recency) AS r_score,\n",
    "        NTILE(5) OVER (ORDER BY frequency DESC) AS f_score,\n",
    "        NTILE(5) OVER (ORDER BY monetary DESC) AS m_score\n",
    "    FROM\n",
    "        CustomerRFM\n",
    ")\n",
    "SELECT\n",
    "    CASE\n",
    "        WHEN r_score = 5 AND f_score = 5 AND m_score = 5 THEN 'Champions'\n",
    "        WHEN r_score = 5 AND f_score = 4 AND m_score IN (3,4) THEN 'Big Spenders'\n",
    "        WHEN r_score IN (3,4,5) AND f_score IN (4,5) AND m_score IN (1,2,3) THEN 'Frequent Buyers'\n",
    "        WHEN r_score IN (1,2) AND f_score IN (1,2,3) AND m_score IN (1,2,3) THEN 'Lost'\n",
    "        WHEN r_score IN (2,3) AND f_score IN (2,3) AND m_score IN (2,3) THEN 'Average Customers'\n",
    "        WHEN r_score = 1 AND f_score = 1 AND m_score = 5 THEN 'Big Wallet, Inactive'\n",
    "        ELSE 'Other'\n",
    "    END AS Customer_Segment,\n",
    "    COUNT(*) AS Number_Of_Customers\n",
    "FROM\n",
    "    RFMScores\n",
    "GROUP BY\n",
    "    Customer_Segment\n",
    "ORDER BY\n",
    "    Number_Of_Customers DESC;\n",
    "\"\"\"\n",
    "duckdb.sql(rfm_query)"
   ]
  }
 ],
 "metadata": {
  "kernelspec": {
   "display_name": ".venv",
   "language": "python",
   "name": "python3"
  },
  "language_info": {
   "codemirror_mode": {
    "name": "ipython",
    "version": 3
   },
   "file_extension": ".py",
   "mimetype": "text/x-python",
   "name": "python",
   "nbconvert_exporter": "python",
   "pygments_lexer": "ipython3",
   "version": "3.11.9"
  }
 },
 "nbformat": 4,
 "nbformat_minor": 5
}
