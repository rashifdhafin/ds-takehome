{
 "cells": [
  {
   "cell_type": "code",
   "execution_count": 1,
   "id": "0820ce88",
   "metadata": {},
   "outputs": [],
   "source": [
    "import duckdb"
   ]
  },
  {
   "cell_type": "code",
   "execution_count": 2,
   "id": "0a74c05c",
   "metadata": {},
   "outputs": [],
   "source": [
    "# Query 1: Create E_COMMERCE_TRANSACTIONS table from CSV file '../data/e_commerce_transactions.csv'\n",
    "duckdb.sql(\"DROP TABLE IF EXISTS E_COMMERCE_TRANSACTIONS\")\n",
    "duckdb.sql(\"CREATE TABLE E_COMMERCE_TRANSACTIONS AS SELECT * FROM read_csv_auto('../data/e_commerce_transactions.csv')\")"
   ]
  },
  {
   "cell_type": "code",
   "execution_count": 3,
   "id": "69bdf479",
   "metadata": {},
   "outputs": [
    {
     "data": {
      "text/plain": [
       "┌──────────┬─────────────┬────────────┬───────────────┬────────────┬─────────────┐\n",
       "│ order_id │ customer_id │ order_date │ payment_value │ decoy_flag │ decoy_noise │\n",
       "│  int64   │    int64    │    date    │    double     │  varchar   │   double    │\n",
       "├──────────┼─────────────┼────────────┼───────────────┼────────────┼─────────────┤\n",
       "│   101000 │         684 │ 2024-01-29 │         38.93 │ A          │       39.51 │\n",
       "│   101001 │         207 │ 2024-06-29 │         59.52 │ B          │       38.97 │\n",
       "│   101002 │         288 │ 2024-03-20 │        355.52 │ B          │      338.14 │\n",
       "│   101003 │         571 │ 2024-02-24 │        157.65 │ C          │      121.69 │\n",
       "│   101004 │         871 │ 2024-01-11 │        287.68 │ C          │      254.92 │\n",
       "└──────────┴─────────────┴────────────┴───────────────┴────────────┴─────────────┘"
      ]
     },
     "execution_count": 3,
     "metadata": {},
     "output_type": "execute_result"
    }
   ],
   "source": [
    "# Query 2: Display first 5 rows of E_COMMERCE_TRANSACTIONS table\n",
    "duckdb.sql(\"SELECT * FROM E_COMMERCE_TRANSACTIONS LIMIT 5\")"
   ]
  },
  {
   "cell_type": "code",
   "execution_count": 5,
   "id": "1a677c2e",
   "metadata": {},
   "outputs": [
    {
     "data": {
      "text/plain": [
       "┌───────────┐\n",
       "│ NULL_DATA │\n",
       "│   int64   │\n",
       "├───────────┤\n",
       "│         0 │\n",
       "└───────────┘"
      ]
     },
     "execution_count": 5,
     "metadata": {},
     "output_type": "execute_result"
    }
   ],
   "source": [
    "# Query 3: Check if we have null data in E_COMMERCE_TRANSACTIONS table\n",
    "duckdb.sql(\"\"\"SELECT COUNT(*) AS NULL_DATA\n",
    "           FROM E_COMMERCE_TRANSACTIONS\n",
    "           WHERE order_id IS NULL \n",
    "           OR customer_id IS NULL\n",
    "           OR order_date IS NULL\n",
    "           OR payment_value IS NULL\n",
    "           OR decoy_flag IS NULL\n",
    "           OR decoy_noise IS NULL\"\"\")"
   ]
  },
  {
   "cell_type": "code",
   "execution_count": 6,
   "id": "3a33b159",
   "metadata": {},
   "outputs": [
    {
     "data": {
      "text/plain": [
       "┌─────────────────┐\n",
       "│ UNIQUE_ORDER_ID │\n",
       "│      int64      │\n",
       "├─────────────────┤\n",
       "│           10000 │\n",
       "└─────────────────┘"
      ]
     },
     "execution_count": 6,
     "metadata": {},
     "output_type": "execute_result"
    }
   ],
   "source": [
    "# Query 4: Check how many unique order_id in E_COMMERCE_TRANSACTIONS table\n",
    "# to make sure we have no duplicates\n",
    "duckdb.sql(\"SELECT COUNT(DISTINCT order_id) AS UNIQUE_ORDER_ID FROM E_COMMERCE_TRANSACTIONS\")"
   ]
  },
  {
   "cell_type": "code",
   "execution_count": 13,
   "id": "56cc574e",
   "metadata": {},
   "outputs": [
    {
     "data": {
      "text/plain": [
       "┌────────────────────┐\n",
       "│ UNIQUE_CUSTOMER_ID │\n",
       "│       int64        │\n",
       "├────────────────────┤\n",
       "│               1000 │\n",
       "└────────────────────┘"
      ]
     },
     "execution_count": 13,
     "metadata": {},
     "output_type": "execute_result"
    }
   ],
   "source": [
    "# Query 5: Check how many unique customer_id in E_COMMERCE_TRANSACTIONS table\n",
    "duckdb.sql(\"SELECT COUNT(DISTINCT customer_id) AS UNIQUE_CUSTOMER_ID FROM E_COMMERCE_TRANSACTIONS\")"
   ]
  },
  {
   "cell_type": "code",
   "execution_count": 14,
   "id": "abd07950",
   "metadata": {},
   "outputs": [
    {
     "data": {
      "text/plain": [
       "┌───────────────────┬───────────────────┐\n",
       "│ MIN_PAYMENT_VALUE │ MAX_PAYMENT_VALUE │\n",
       "│      double       │      double       │\n",
       "├───────────────────┼───────────────────┤\n",
       "│              0.55 │           1369.47 │\n",
       "└───────────────────┴───────────────────┘"
      ]
     },
     "execution_count": 14,
     "metadata": {},
     "output_type": "execute_result"
    }
   ],
   "source": [
    "# Query 6: Check minimum and maximum payment_value in E_COMMERCE_TRANSACTIONS table\n",
    "duckdb.sql(\"\"\"SELECT \n",
    "                MIN(payment_value) AS MIN_PAYMENT_VALUE, \n",
    "                MAX(payment_value) AS MAX_PAYMENT_VALUE \n",
    "              FROM E_COMMERCE_TRANSACTIONS\"\"\")"
   ]
  },
  {
   "cell_type": "code",
   "execution_count": 15,
   "id": "f05df815",
   "metadata": {},
   "outputs": [
    {
     "data": {
      "text/plain": [
       "┌────────────┐\n",
       "│ decoy_flag │\n",
       "│  varchar   │\n",
       "├────────────┤\n",
       "│ A          │\n",
       "│ C          │\n",
       "│ D          │\n",
       "│ B          │\n",
       "└────────────┘"
      ]
     },
     "execution_count": 15,
     "metadata": {},
     "output_type": "execute_result"
    }
   ],
   "source": [
    "# Query 7: Check unique value from decoy_flag column in E_COMMERCE_TRANSACTIONS table\n",
    "duckdb.sql(\"SELECT DISTINCT decoy_flag FROM E_COMMERCE_TRANSACTIONS\")"
   ]
  },
  {
   "cell_type": "code",
   "execution_count": 16,
   "id": "10fb1c34",
   "metadata": {},
   "outputs": [
    {
     "data": {
      "text/plain": [
       "┌─────────────────┬─────────────────┐\n",
       "│ MIN_DECOY_NOISE │ MAX_DECOY_NOISE │\n",
       "│     double      │     double      │\n",
       "├─────────────────┼─────────────────┤\n",
       "│          -48.34 │         1468.46 │\n",
       "└─────────────────┴─────────────────┘"
      ]
     },
     "execution_count": 16,
     "metadata": {},
     "output_type": "execute_result"
    }
   ],
   "source": [
    "# Query 8: Check minimum and maximum decoy_noise in E_COMMERCE_TRANSACTIONS table\n",
    "duckdb.sql(\"\"\"SELECT \n",
    "                MIN(decoy_noise) AS MIN_DECOY_NOISE, \n",
    "                MAX(decoy_noise) AS MAX_DECOY_NOISE \n",
    "              FROM E_COMMERCE_TRANSACTIONS\"\"\")"
   ]
  }
 ],
 "metadata": {
  "kernelspec": {
   "display_name": ".venv",
   "language": "python",
   "name": "python3"
  },
  "language_info": {
   "codemirror_mode": {
    "name": "ipython",
    "version": 3
   },
   "file_extension": ".py",
   "mimetype": "text/x-python",
   "name": "python",
   "nbconvert_exporter": "python",
   "pygments_lexer": "ipython3",
   "version": "3.11.9"
  }
 },
 "nbformat": 4,
 "nbformat_minor": 5
}
